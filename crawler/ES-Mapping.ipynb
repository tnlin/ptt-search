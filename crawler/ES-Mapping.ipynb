{
 "cells": [
  {
   "cell_type": "markdown",
   "metadata": {},
   "source": [
    "## Parse date"
   ]
  },
  {
   "cell_type": "code",
   "execution_count": null,
   "metadata": {},
   "outputs": [],
   "source": [
    "from datetime import datetime\n",
    "from dateutil import tz\n",
    "import re\n",
    "\n",
    "def parse_date(date):\n",
    "    if len(date.split('.')) > 1 :\n",
    "        dates = date.split(' ')\n",
    "        dates[1] = re.sub(\"\\D\", \"\", dates[1])\n",
    "        dates[3] = dates[3].split('.')[0]\n",
    "        date = \" \".join(dates)\n",
    "        date = datetime.strptime(date, '%B %d %Y, %H:%M:%S')\n",
    "    else:\n",
    "        date = date[date.find(\" \")+1:]\n",
    "        date = datetime.strptime(date, '%b %d %H:%M:%S %Y')\n",
    "\n",
    "    tzinfo = tz.gettz('Asia/Taipei')\n",
    "    return date.replace(tzinfo=tzinfo).isoformat()\n",
    "\n",
    "dates = [\n",
    "    'December 9th 2016, 22:24:35.000',\n",
    "    'Wed Oct 5 20:53:22 2016'\n",
    "]\n",
    "[parse_date(date) for date in dates]"
   ]
  },
  {
   "cell_type": "markdown",
   "metadata": {},
   "source": [
    "## Parse author"
   ]
  },
  {
   "cell_type": "code",
   "execution_count": 19,
   "metadata": {},
   "outputs": [
    {
     "data": {
      "text/plain": [
       "'assggy'"
      ]
     },
     "execution_count": 19,
     "metadata": {},
     "output_type": "execute_result"
    }
   ],
   "source": [
    "author = 'assggy (IamCarmelo)'\n",
    "author.split(\" \")[0]"
   ]
  },
  {
   "cell_type": "markdown",
   "metadata": {},
   "source": [
    "## Mapping (Blog)"
   ]
  },
  {
   "cell_type": "code",
   "execution_count": null,
   "metadata": {},
   "outputs": [],
   "source": [
    "# from datetime import datetime\n",
    "# from elasticsearch_dsl import DocType, Date, Integer, Keyword, Text, connections\n",
    "\n",
    "# # Define a default Elasticsearch client\n",
    "# connections.create_connection(hosts=['13.78.14.166'])\n",
    "\n",
    "# class Article(DocType):\n",
    "#     title = Text(analyzer='snowball', fields={'raw': Keyword()})\n",
    "#     body = Text(analyzer='snowball')\n",
    "#     tags = Keyword()\n",
    "#     published_from = Date()\n",
    "#     lines = Integer()\n",
    "\n",
    "#     class Meta:\n",
    "#         index = 'blog'\n",
    "\n",
    "#     def save(self, ** kwargs):\n",
    "#         self.lines = len(self.body.split())\n",
    "#         return super(Article, self).save(** kwargs)\n",
    "\n",
    "#     def is_published(self):\n",
    "#         return datetime.now() > self.published_from\n",
    "\n",
    "# # create the mappings in elasticsearch\n",
    "# Article.init()\n",
    "\n",
    "# # create and save and article\n",
    "# article = Article(meta={'id': 42}, title='Hello world!', tags=['test'])\n",
    "# article.body = ''' looong text '''\n",
    "# article.published_from = datetime.now()\n",
    "# article.save()\n",
    "\n",
    "# article = Article.get(id=42)\n",
    "# print(article.is_published())\n",
    "\n",
    "# # Display cluster health\n",
    "# print(connections.get_connection().cluster.health())"
   ]
  },
  {
   "cell_type": "markdown",
   "metadata": {},
   "source": [
    "## Mapping (Post)"
   ]
  },
  {
   "cell_type": "code",
   "execution_count": null,
   "metadata": {},
   "outputs": [],
   "source": [
    "# from datetime import datetime\n",
    "# from elasticsearch_dsl import DocType, Date, Nested, Boolean, \\\n",
    "#     analyzer, InnerDoc, Completion, Keyword, Text\n",
    "\n",
    "# html_strip = analyzer('html_strip',\n",
    "#     tokenizer=\"standard\",\n",
    "#     filter=[\"standard\", \"lowercase\", \"stop\", \"snowball\"],\n",
    "#     char_filter=[\"html_strip\"]\n",
    "# )\n",
    "\n",
    "# class Comment(InnerDoc):\n",
    "#     author = Text(fields={'raw': Keyword()})\n",
    "#     content = Text(analyzer='snowball')\n",
    "#     created_at = Date(default_timezone='Asia/Taipei')\n",
    "\n",
    "#     def age(self):\n",
    "#         return datetime.now() - self.created_at\n",
    "\n",
    "# class Post(DocType):\n",
    "#     title = Text()\n",
    "#     title_suggest = Completion()\n",
    "#     created_at = Date()\n",
    "#     published = Boolean()\n",
    "#     category = Text(\n",
    "#         analyzer=html_strip,\n",
    "#         fields={'raw': Keyword()}\n",
    "#    )\n",
    "\n",
    "# # 1  city.raw 字段是 city 字段的 keyword 类型字段\n",
    "# # 2  city 字段将被当做 full text 进行搜索\n",
    "# # 34 city.raw 可用于排序和聚合\n",
    "\n",
    "#     comments = Nested(Comment)\n",
    "\n",
    "#     class Meta:\n",
    "#         index = 'blog'\n",
    "\n",
    "#     def add_comment(self, author, content):\n",
    "#         self.comments.append(Comment(author=author, content=content, created_at=datetime.now()))\n",
    "\n",
    "#     def save(self, ** kwargs):\n",
    "#         self.created_at = datetime.now()\n",
    "#         return super().save(** kwargs)\n",
    "    \n",
    "\n",
    "# first = Post(title='My First Blog Post, yay!', published=True)\n",
    "# first.category = ['everything', 'nothing']\n",
    "# first.meta.id = 55\n",
    "# first.add_comment('me', 'This is nice!')\n",
    "# first.add_comment('me', 'dfsdfsf!')\n",
    "# first.add_comment('me', 'asdfasdfasdfasd!')\n",
    "\n",
    "# first.save()\n",
    "# # first.update(published=True, published_by='me')\n",
    "\n"
   ]
  },
  {
   "cell_type": "markdown",
   "metadata": {},
   "source": [
    "## Mapping (PTT)"
   ]
  },
  {
   "cell_type": "code",
   "execution_count": 4,
   "metadata": {},
   "outputs": [],
   "source": [
    "from elasticsearch_dsl import connections, DocType, Date, Nested, InnerDoc, Keyword, Text, Ip, Integer\n",
    "from datetime import datetime\n",
    "connections.create_connection(hosts=['13.78.14.166'])\n",
    "\n",
    "class Message(InnerDoc):\n",
    "    push_tag = Keyword(ignore_above=256)\n",
    "    push_userid = Keyword(ignore_above=256)\n",
    "    push_content = Keyword(ignore_above=256)\n",
    "    push_ipdatetime = Keyword(ignore_above=256)\n",
    "\n",
    "\n",
    "class MessageCount(InnerDoc):\n",
    "    all = Integer()\n",
    "    count = Integer()\n",
    "    controversial = Integer()\n",
    "    push = Integer()\n",
    "    boo = Integer()\n",
    "    neutral = Integer()\n",
    "\n",
    "\n",
    "class Article(DocType):\n",
    "    article_id = Keyword(ignore_above=256)\n",
    "    article_title = Text(\n",
    "        analyzer='ik_max_word',\n",
    "        search_analyzer = 'ik_max_word'\n",
    "    )\n",
    "    author = Keyword(ignore_above=256)\n",
    "    author_parsed = Keyword(ignore_above=256)\n",
    "    board = Keyword(ignore_above=256)\n",
    "    content = Text(\n",
    "        analyzer='ik_max_word',\n",
    "        search_analyzer = 'ik_max_word'\n",
    "    )\n",
    "    date = Keyword(ignore_above=256)\n",
    "    date_parsed = Date(default_timezone='Asia/Taipei')\n",
    "    ip = Keyword(ignore_above=256)\n",
    "    message_count = Nested(MessageCount)\n",
    "    messages = Nested(Message)\n",
    "\n",
    "    class Meta:\n",
    "        index = 'ptt-2018-06'\n",
    "        doc_type = 'article'\n",
    "\n",
    "Article.init()\n",
    "        \n",
    "#     def add_message(self, author, content):\n",
    "#         self.message.append(Message(author=author, content=content, created_at=datetime.now()))\n",
    "        \n",
    "#     def add_message_count(self, author, content):\n",
    "#         self.message_count.append(MessageCount(author=author, content=content, created_at=datetime.now()))\n",
    "\n",
    "#     def save(self, ** kwargs):\n",
    "#         self.created_at = datetime.now()\n",
    "#         return super().save(** kwargs)\n",
    "# first = Post(title='My First Blog Post, yay!', published=True)\n",
    "# first.category = ['everything', 'nothing']\n",
    "# first.meta.id = 47\n",
    "# first.add_comment('me', 'This is nice!')\n",
    "# first.save()e\n",
    "# # first.update(published=True, published_by='me')\n"
   ]
  },
  {
   "cell_type": "code",
   "execution_count": null,
   "metadata": {},
   "outputs": [],
   "source": [
    "# from elasticsearch_dsl import Search\n",
    "# connections.create_connection(hosts=['13.78.14.166'])\n",
    "# client = Elasticsearch()\n",
    "\n",
    "# s = Search(index=\"test2-2018-06\") \\\n",
    "#     .filter(\"term\", category=\"search\") \\\n",
    "#     .query(\"match\", title=\"感情\")   \\\n",
    "#     .exclude(\"match\", description=\"父母\")\n",
    "\n",
    "# s.aggs.bucket('per_tag', 'terms', field='tags') \\\n",
    "#     .metric('max_lines', 'max', field='lines')\n",
    "\n",
    "# response = s.execute()\n",
    "\n",
    "# for hit in response:\n",
    "#     print(hit.meta.score, hit.title)\n",
    "\n",
    "# for tag in response.aggregations.per_tag.buckets:\n",
    "#     print(tag.key, tag.max_lines.value)"
   ]
  },
  {
   "cell_type": "code",
   "execution_count": 22,
   "metadata": {},
   "outputs": [
    {
     "name": "stdout",
     "output_type": "stream",
     "text": [
      "11.233568 [新聞] 西瓜也有身份證了 後龍西瓜節週六熱鬧登\n",
      "11.233568 [新聞] 西瓜也有身份證了 後龍西瓜節週六熱鬧登\n",
      "11.217221 [問卦] 有紅西瓜的西瓜汁 為什麼沒小玉西瓜汁？\n",
      "11.177635 [新聞] 〈中部〉福興西瓜節週日登場 三選將齊促\n",
      "11.175111 [問卦] 有紅西瓜的西瓜汁 為什麼沒小玉西瓜汁？\n",
      "11.174166 Re: [問卦] 溪州有什麼特產啊\n",
      "11.173001 Re: [問卦] 溪州有什麼特產啊\n",
      "11.14826 [新聞] 〈中部〉福興西瓜節週日登場 三選將齊促\n",
      "11.067176 Re: [新聞] 【選情初探】民進黨：攻下台北、新北　就\n",
      "11.065167 Re: [新聞] 【選情初探】民進黨：攻下台北、新北　就\n"
     ]
    }
   ],
   "source": [
    "from elasticsearch_dsl import Search, connections\n",
    "connections.create_connection(hosts=['13.78.14.166'])\n",
    "board = \"Boy-Girl\"\n",
    "board = \"Gossiping\"\n",
    "\n",
    "# Term 精确\n",
    "# Match 模糊\n",
    "s = Search(index=\"test-2018-06\") \\\n",
    "    .filter(\"term\", board=board) \\\n",
    "    .query(\"match\", content=\"西瓜\")   \\\n",
    "#     .query(\"match\", article_title=\"西瓜 夏天\")\\\n",
    "#     .exclude(\"match\", article_title=\"照片\")\n",
    "\n",
    "response = s.execute()\n",
    "for hit in response:\n",
    "    print(hit.meta.score, hit.article_title)\n"
   ]
  },
  {
   "cell_type": "code",
   "execution_count": 27,
   "metadata": {},
   "outputs": [],
   "source": [
    "from elasticsearch_dsl import Search, connections\n",
    "connections.create_connection(hosts=['13.78.14.166'])\n",
    "# board = \"Gossiping\"\n",
    "board = \"Boy-Girl\"\n",
    "s = Search(index=\"ptt-2018-06\") \\\n",
    "    .filter(\"term\", board=board) \\\n",
    "    .query(\"match\", article_title=\"哥哥\")  \\\n",
    "#     .query(\"match\", content=\"西瓜 夏天\")\\\n",
    "#     .exclude(\"match\", article_title=\"照片\")\n",
    "\n",
    "response = s.execute()\n",
    "for hit in response:\n",
    "    print(hit.message_count.count, hit.article_title, hit.author, hit.meta.score,  hit.date_parsed)"
   ]
  },
  {
   "cell_type": "code",
   "execution_count": 28,
   "metadata": {},
   "outputs": [
    {
     "name": "stdout",
     "output_type": "stream",
     "text": [
      "9 [新聞] 西瓜也有身份證了 後龍西瓜節週六熱鬧登 qqq87112 (kaim) 12.909994 2018-06-05T15:20:50+08:00\n",
      "0 Re: [問卦] 溪州有什麼特產啊 kutkin (  ) 12.744474 2018-06-06T11:00:54+08:00\n",
      "19 [問卦] 西瓜的真實身份是？ ysc1213 (ysc) 12.708532 2018-01-23T10:45:04+08:00\n",
      "8 [問卦] 有紅西瓜的西瓜汁 為什麼沒小玉西瓜汁？ q0000000 (十方眾生皆蒙昧 道消魔長) 12.691474 2018-05-13T10:44:13+08:00\n",
      "4 [新聞] 〈中部〉福興西瓜節週日登場 三選將齊促 qqq87112 (kaim) 12.678584 2018-06-01T08:43:56+08:00\n",
      "1 Re: [新聞] 【選情初探】民進黨：攻下台北、新北　就 sunyeah (   湯元嗎) 12.550674 2018-05-20T23:55:46+08:00\n",
      "2 [問卦] 憾！小X百貨竟然沒賣西瓜刀？ Marzzze (Marzzze) 12.5249 2018-05-25T14:26:09+08:00\n",
      "4 [新聞] 國宴西瓜行情佳　花警啟動「護瓜專案」 gjsjhang (臺灣杉－Biang) 12.500449 2018-05-10T13:48:46+08:00\n",
      "3 [新聞] 馬英九叫賣西瓜 1顆1萬8800元助弱勢 cc9i (正直與善良) 12.471011 2018-05-19T18:26:17+08:00\n",
      "3 [新聞] 猥褻無極限！爆乳女模開腿露下體破西瓜　 zuvupa (阿嘉) 12.466688 2018-04-26T15:02:44+08:00\n"
     ]
    }
   ],
   "source": [
    "from elasticsearch_dsl import Search, connections\n",
    "connections.create_connection(hosts=['13.78.14.166'])\n",
    "board = \"Boy-Girl\"\n",
    "board = \"Gossiping\"\n",
    "\n",
    "# Term 精确\n",
    "# Match 模糊\n",
    "s = Search(index=\"ptt-2018-06\") \\\n",
    "    .filter(\"term\", board=board) \\\n",
    "    .query(\"match\", content=\"西瓜\")   \\\n",
    "#     .query(\"match\", article_title=\"西瓜 夏天\")\\\n",
    "#     .exclude(\"match\", article_title=\"照片\")\n",
    "\n",
    "response = s.execute()\n",
    "for hit in response:\n",
    "    print(hit.message_count.count, hit.article_title, hit.author, hit.meta.score,  hit.date_parsed)\n"
   ]
  },
  {
   "cell_type": "code",
   "execution_count": null,
   "metadata": {},
   "outputs": [],
   "source": []
  }
 ],
 "metadata": {
  "kernelspec": {
   "display_name": "Python 3",
   "language": "python",
   "name": "python3"
  },
  "language_info": {
   "codemirror_mode": {
    "name": "ipython",
    "version": 3
   },
   "file_extension": ".py",
   "mimetype": "text/x-python",
   "name": "python",
   "nbconvert_exporter": "python",
   "pygments_lexer": "ipython3",
   "version": "3.6.3"
  }
 },
 "nbformat": 4,
 "nbformat_minor": 2
}
